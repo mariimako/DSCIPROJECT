{
 "cells": [
  {
   "cell_type": "markdown",
   "id": "fc1bb13f-46cb-4d43-a232-c058ae5e6d60",
   "metadata": {
    "tags": [],
    "toc-hr-collapsed": true
   },
   "source": [
    "# Project Proposal"
   ]
  },
  {
   "cell_type": "markdown",
   "id": "0f8a8296-6944-4273-bc99-24c663571b61",
   "metadata": {
    "tags": []
   },
   "source": [
    "## Introduction"
   ]
  },
  {
   "cell_type": "markdown",
   "id": "afd69bd9-8d02-4cd6-9bce-7f0632a54cdb",
   "metadata": {},
   "source": [
    "Provide some relevant background information on the topic so that someone unfamiliar with it will be prepared to understand the rest of your proposal\n",
    "Clearly state the question you will try to answer with your project\n",
    "Identify and describe the dataset that will be used to answer the question"
   ]
  },
  {
   "cell_type": "markdown",
   "id": "87067bc1-f3f7-4860-b5ce-a04a3d37f049",
   "metadata": {},
   "source": [
    "The dataset contains data regarding heart disease patients and relavant information such as sex, age, cholestral, max heart rate and more. Other columns include more technical terms, but many we will not be using as predictors. \n",
    "\n",
    "Heart disease refers to several types of heart related sicknesses such as heart attacks, unstable angina and may more. This data set categorizes the result of the patient's diagnosis to 4 types of categories: !!!. \n",
    "\n"
   ]
  },
  {
   "cell_type": "markdown",
   "id": "d7c85358-c92d-4f37-9832-fc74484cece0",
   "metadata": {
    "tags": []
   },
   "source": [
    "## Preliminary exploratory data analysis:"
   ]
  },
  {
   "cell_type": "code",
   "execution_count": 14,
   "id": "f9c5a713-d382-46f7-9ec2-2b51e78736d9",
   "metadata": {},
   "outputs": [
    {
     "name": "stderr",
     "output_type": "stream",
     "text": [
      "Warning message in file(filename, \"r\", encoding = encoding):\n",
      "“cannot open file 'tests.R': No such file or directory”\n"
     ]
    },
    {
     "ename": "ERROR",
     "evalue": "Error in file(filename, \"r\", encoding = encoding): cannot open the connection\n",
     "output_type": "error",
     "traceback": [
      "Error in file(filename, \"r\", encoding = encoding): cannot open the connection\nTraceback:\n",
      "1. source(\"tests.R\")",
      "2. file(filename, \"r\", encoding = encoding)"
     ]
    }
   ],
   "source": [
    " ### Run this cell before continuing.\n",
    "library(tidyverse)\n",
    "library(repr)\n",
    "library(tidymodels)\n",
    "options(repr.matrix.max.rows = 6)\n",
    "source('tests.R')\n",
    "source('cleanup.R')"
   ]
  },
  {
   "cell_type": "markdown",
   "id": "0502aedb-a20b-4c6a-b915-9cc5a0d4138e",
   "metadata": {},
   "source": [
    "- Demonstrate that the dataset can be read from the web into R \n",
    "- Clean and wrangle your data into a tidy format\n",
    "- Using only training data, summarize the data in at least one table (this is exploratory data analysis). An example of a useful table could be one that reports the number of observations in each class, the means of the predictor variables you plan to use in your analysis and how many rows have missing data. \n",
    "- Using only training data, visualize the data with at least one plot relevant to the analysis you plan to do (this is exploratory data analysis). An example of a useful visualization could be one that compares the distributions of each of the predictor variables you plan to use in your analysis.\n",
    "\n",
    "Link: https://archive.ics.uci.edu/ml/machine-learning-databases/heart-disease/processed.cleveland.data\n",
    "https://archive.ics.uci.edu/ml/datasets/Heart+Disease"
   ]
  },
  {
   "cell_type": "markdown",
   "id": "68dd05a9-f342-4813-ac75-7bff1183bc84",
   "metadata": {
    "tags": []
   },
   "source": [
    "### Cleaning and Reading the Data"
   ]
  },
  {
   "cell_type": "code",
   "execution_count": 15,
   "id": "10c1e242-eb18-4752-b1c6-012e4d4cd65f",
   "metadata": {},
   "outputs": [
    {
     "name": "stderr",
     "output_type": "stream",
     "text": [
      "\u001b[1mRows: \u001b[22m\u001b[34m303\u001b[39m \u001b[1mColumns: \u001b[22m\u001b[34m14\u001b[39m\n",
      "\u001b[36m──\u001b[39m \u001b[1mColumn specification\u001b[22m \u001b[36m────────────────────────────────────────────────────────\u001b[39m\n",
      "\u001b[1mDelimiter:\u001b[22m \",\"\n",
      "\u001b[31mchr\u001b[39m  (2): X12, X13\n",
      "\u001b[32mdbl\u001b[39m (12): X1, X2, X3, X4, X5, X6, X7, X8, X9, X10, X11, X14\n",
      "\n",
      "\u001b[36mℹ\u001b[39m Use `spec()` to retrieve the full column specification for this data.\n",
      "\u001b[36mℹ\u001b[39m Specify the column types or set `show_col_types = FALSE` to quiet this message.\n"
     ]
    },
    {
     "data": {
      "text/html": [
       "<table class=\"dataframe\">\n",
       "<caption>A tibble: 303 × 14</caption>\n",
       "<thead>\n",
       "\t<tr><th scope=col>age</th><th scope=col>sex</th><th scope=col>chest_pain_type</th><th scope=col>rbp</th><th scope=col>cholestral</th><th scope=col>fbs</th><th scope=col>rer</th><th scope=col>max_heart_rate</th><th scope=col>eia</th><th scope=col>STdep</th><th scope=col>slope</th><th scope=col>ca</th><th scope=col>thal</th><th scope=col>num</th></tr>\n",
       "\t<tr><th scope=col>&lt;dbl&gt;</th><th scope=col>&lt;fct&gt;</th><th scope=col>&lt;fct&gt;</th><th scope=col>&lt;dbl&gt;</th><th scope=col>&lt;dbl&gt;</th><th scope=col>&lt;fct&gt;</th><th scope=col>&lt;fct&gt;</th><th scope=col>&lt;dbl&gt;</th><th scope=col>&lt;lgl&gt;</th><th scope=col>&lt;dbl&gt;</th><th scope=col>&lt;fct&gt;</th><th scope=col>&lt;chr&gt;</th><th scope=col>&lt;chr&gt;</th><th scope=col>&lt;fct&gt;</th></tr>\n",
       "</thead>\n",
       "<tbody>\n",
       "\t<tr><td>63</td><td>1</td><td>1</td><td>145</td><td>233</td><td>1</td><td>2</td><td>150</td><td>FALSE</td><td>2.3</td><td>3</td><td>0.0</td><td>6.0</td><td>0</td></tr>\n",
       "\t<tr><td>67</td><td>1</td><td>4</td><td>160</td><td>286</td><td>0</td><td>2</td><td>108</td><td>FALSE</td><td>1.5</td><td>2</td><td>3.0</td><td>3.0</td><td>2</td></tr>\n",
       "\t<tr><td>67</td><td>1</td><td>4</td><td>120</td><td>229</td><td>0</td><td>2</td><td>129</td><td>FALSE</td><td>2.6</td><td>2</td><td>2.0</td><td>7.0</td><td>1</td></tr>\n",
       "\t<tr><td>⋮</td><td>⋮</td><td>⋮</td><td>⋮</td><td>⋮</td><td>⋮</td><td>⋮</td><td>⋮</td><td>⋮</td><td>⋮</td><td>⋮</td><td>⋮</td><td>⋮</td><td>⋮</td></tr>\n",
       "\t<tr><td>57</td><td>1</td><td>4</td><td>130</td><td>131</td><td>0</td><td>0</td><td>115</td><td>FALSE</td><td>1.2</td><td>2</td><td>1.0</td><td>7.0</td><td>3</td></tr>\n",
       "\t<tr><td>57</td><td>0</td><td>2</td><td>130</td><td>236</td><td>0</td><td>2</td><td>174</td><td>FALSE</td><td>0.0</td><td>2</td><td>1.0</td><td>3.0</td><td>1</td></tr>\n",
       "\t<tr><td>38</td><td>1</td><td>3</td><td>138</td><td>175</td><td>0</td><td>0</td><td>173</td><td>FALSE</td><td>0.0</td><td>1</td><td>?  </td><td>3.0</td><td>0</td></tr>\n",
       "</tbody>\n",
       "</table>\n"
      ],
      "text/latex": [
       "A tibble: 303 × 14\n",
       "\\begin{tabular}{llllllllllllll}\n",
       " age & sex & chest\\_pain\\_type & rbp & cholestral & fbs & rer & max\\_heart\\_rate & eia & STdep & slope & ca & thal & num\\\\\n",
       " <dbl> & <fct> & <fct> & <dbl> & <dbl> & <fct> & <fct> & <dbl> & <lgl> & <dbl> & <fct> & <chr> & <chr> & <fct>\\\\\n",
       "\\hline\n",
       "\t 63 & 1 & 1 & 145 & 233 & 1 & 2 & 150 & FALSE & 2.3 & 3 & 0.0 & 6.0 & 0\\\\\n",
       "\t 67 & 1 & 4 & 160 & 286 & 0 & 2 & 108 & FALSE & 1.5 & 2 & 3.0 & 3.0 & 2\\\\\n",
       "\t 67 & 1 & 4 & 120 & 229 & 0 & 2 & 129 & FALSE & 2.6 & 2 & 2.0 & 7.0 & 1\\\\\n",
       "\t ⋮ & ⋮ & ⋮ & ⋮ & ⋮ & ⋮ & ⋮ & ⋮ & ⋮ & ⋮ & ⋮ & ⋮ & ⋮ & ⋮\\\\\n",
       "\t 57 & 1 & 4 & 130 & 131 & 0 & 0 & 115 & FALSE & 1.2 & 2 & 1.0 & 7.0 & 3\\\\\n",
       "\t 57 & 0 & 2 & 130 & 236 & 0 & 2 & 174 & FALSE & 0.0 & 2 & 1.0 & 3.0 & 1\\\\\n",
       "\t 38 & 1 & 3 & 138 & 175 & 0 & 0 & 173 & FALSE & 0.0 & 1 & ?   & 3.0 & 0\\\\\n",
       "\\end{tabular}\n"
      ],
      "text/markdown": [
       "\n",
       "A tibble: 303 × 14\n",
       "\n",
       "| age &lt;dbl&gt; | sex &lt;fct&gt; | chest_pain_type &lt;fct&gt; | rbp &lt;dbl&gt; | cholestral &lt;dbl&gt; | fbs &lt;fct&gt; | rer &lt;fct&gt; | max_heart_rate &lt;dbl&gt; | eia &lt;lgl&gt; | STdep &lt;dbl&gt; | slope &lt;fct&gt; | ca &lt;chr&gt; | thal &lt;chr&gt; | num &lt;fct&gt; |\n",
       "|---|---|---|---|---|---|---|---|---|---|---|---|---|---|\n",
       "| 63 | 1 | 1 | 145 | 233 | 1 | 2 | 150 | FALSE | 2.3 | 3 | 0.0 | 6.0 | 0 |\n",
       "| 67 | 1 | 4 | 160 | 286 | 0 | 2 | 108 | FALSE | 1.5 | 2 | 3.0 | 3.0 | 2 |\n",
       "| 67 | 1 | 4 | 120 | 229 | 0 | 2 | 129 | FALSE | 2.6 | 2 | 2.0 | 7.0 | 1 |\n",
       "| ⋮ | ⋮ | ⋮ | ⋮ | ⋮ | ⋮ | ⋮ | ⋮ | ⋮ | ⋮ | ⋮ | ⋮ | ⋮ | ⋮ |\n",
       "| 57 | 1 | 4 | 130 | 131 | 0 | 0 | 115 | FALSE | 1.2 | 2 | 1.0 | 7.0 | 3 |\n",
       "| 57 | 0 | 2 | 130 | 236 | 0 | 2 | 174 | FALSE | 0.0 | 2 | 1.0 | 3.0 | 1 |\n",
       "| 38 | 1 | 3 | 138 | 175 | 0 | 0 | 173 | FALSE | 0.0 | 1 | ?   | 3.0 | 0 |\n",
       "\n"
      ],
      "text/plain": [
       "    age sex chest_pain_type rbp cholestral fbs rer max_heart_rate eia   STdep\n",
       "1   63  1   1               145 233        1   2   150            FALSE 2.3  \n",
       "2   67  1   4               160 286        0   2   108            FALSE 1.5  \n",
       "3   67  1   4               120 229        0   2   129            FALSE 2.6  \n",
       "⋮   ⋮   ⋮   ⋮               ⋮   ⋮          ⋮   ⋮   ⋮              ⋮     ⋮    \n",
       "301 57  1   4               130 131        0   0   115            FALSE 1.2  \n",
       "302 57  0   2               130 236        0   2   174            FALSE 0.0  \n",
       "303 38  1   3               138 175        0   0   173            FALSE 0.0  \n",
       "    slope ca  thal num\n",
       "1   3     0.0 6.0  0  \n",
       "2   2     3.0 3.0  2  \n",
       "3   2     2.0 7.0  1  \n",
       "⋮   ⋮     ⋮   ⋮    ⋮  \n",
       "301 2     1.0 7.0  3  \n",
       "302 2     1.0 3.0  1  \n",
       "303 1     ?   3.0  0  "
      ]
     },
     "metadata": {},
     "output_type": "display_data"
    }
   ],
   "source": [
    "heart_disease <- read_csv(url(\"https://archive.ics.uci.edu/ml/machine-learning-databases/heart-disease/processed.cleveland.data\"),\n",
    "                         col_names = FALSE)\n",
    "\n",
    "colnames(heart_disease) <- c(\"age\", \"sex\", \"chest_pain_type\", \"rbp\", \"cholesterol\", \n",
    "                      \"fbs\", \"rer\",\n",
    "                      \"max_heart_rate\",\"eia\", \"STdep\",\n",
    "                      \"slope\",\"ca\", \"thal\", \"num\")\n",
    "\n",
    "heart_disease <- heart_disease |>\n",
    "                    mutate(sex = as_factor(sex), fbs = as_factor(fbs), \n",
    "                           rer = as_factor(rer), eia = as_factor(eia),\n",
    "                           slope = as_factor(slope), num = as_factor(num),\n",
    "                           chest_pain_type = as_factor(chest_pain_type))\n",
    "heart_disease <- heart_disease|> mutate(eia = (1==\"yes\")&&(0==\"no\"))\n",
    "                  \n",
    "heart_disease\n",
    "\n"
   ]
  },
  {
   "cell_type": "code",
   "execution_count": 16,
   "id": "b006d3b6-d09f-4bd9-9cf3-bba7f388a684",
   "metadata": {},
   "outputs": [],
   "source": [
    " # Splitting the data\n",
    "heart_split <- initial_split(heart_disease, prop = 0.75, strata = num)\n",
    "heart_train <- training(heart_split)\n",
    "heart_test <- testing(heart_split)"
   ]
  },
  {
   "cell_type": "code",
   "execution_count": 17,
   "id": "b5a2c491-c9ad-4d03-858c-26fa6fd38835",
   "metadata": {},
   "outputs": [
    {
     "data": {
      "text/html": [
       "<table class=\"dataframe\">\n",
       "<caption>A tibble: 1 × 3</caption>\n",
       "<thead>\n",
       "\t<tr><th scope=col>Number of Observations</th><th scope=col>Average Age</th><th scope=col>Average Cholestral</th></tr>\n",
       "\t<tr><th scope=col>&lt;int&gt;</th><th scope=col>&lt;dbl&gt;</th><th scope=col>&lt;dbl&gt;</th></tr>\n",
       "</thead>\n",
       "<tbody>\n",
       "\t<tr><td>226</td><td>54.52212</td><td>245.0619</td></tr>\n",
       "</tbody>\n",
       "</table>\n"
      ],
      "text/latex": [
       "A tibble: 1 × 3\n",
       "\\begin{tabular}{lll}\n",
       " Number of Observations & Average Age & Average Cholestral\\\\\n",
       " <int> & <dbl> & <dbl>\\\\\n",
       "\\hline\n",
       "\t 226 & 54.52212 & 245.0619\\\\\n",
       "\\end{tabular}\n"
      ],
      "text/markdown": [
       "\n",
       "A tibble: 1 × 3\n",
       "\n",
       "| Number of Observations &lt;int&gt; | Average Age &lt;dbl&gt; | Average Cholestral &lt;dbl&gt; |\n",
       "|---|---|---|\n",
       "| 226 | 54.52212 | 245.0619 |\n",
       "\n"
      ],
      "text/plain": [
       "  Number of Observations Average Age Average Cholestral\n",
       "1 226                    54.52212    245.0619          "
      ]
     },
     "metadata": {},
     "output_type": "display_data"
    }
   ],
   "source": [
    "## Table of data analysis\n",
    "\n",
    "# Getting the mean of the age \n",
    "average_age <- heart_train |> summarise(mean(age))\n",
    "\n",
    "# Number of observations\n",
    "\n",
    "num_obs <- tibble(nrow(heart_train))\n",
    "\n",
    "# average of serum cholestral, used as a predictor\n",
    "\n",
    "avg_chol <- heart_train |> summarise(mean(cholesterol))\n",
    "\n",
    "data_analysis <- bind_cols(num_obs, average_age, avg_chol)\n",
    "\n",
    "colnames(data_analysis)  <- c(\"Number of Observations\", \"Average Age\", \"Average Cholesterol\")\n",
    "\n",
    "data_analysis"
   ]
  },
  {
   "cell_type": "code",
   "execution_count": null,
   "id": "a3e41f68-0eee-43cd-b1be-eb877ec875c6",
   "metadata": {},
   "outputs": [],
   "source": []
  },
  {
   "cell_type": "code",
   "execution_count": 18,
   "id": "0c8b45d2-ea0d-4483-87f9-36ff489b72bf",
   "metadata": {},
   "outputs": [
    {
     "data": {
      "image/png": "[encoded data removed]",
      "text/plain": [
       "plot without title"
      ]
     },
     "metadata": {
      "image/png": {
       "height": 420,
       "width": 420
      }
     },
     "output_type": "display_data"
    }
   ],
   "source": [
    "# plotting for data analysis\n",
    "age_dist <- heart_train |> ggplot(aes(x=age, fill = eia)) + geom_histogram(position = \"dodge\", bins = 20) + \n",
    "            facet_grid(rows = vars(eia)) + \n",
    "            labs(x = \"age\", y=\"Number of patients\", fill = \"Excercised Induced Anigma\") +\n",
    "            ggtitle(\"Age distribution and prevalence of Excercised Induced Anigma (0 no)(1 yes)\")\n",
    "age_dist\n",
    "\n"
   ]
  },
  {
   "cell_type": "markdown",
   "id": "5233cf38-babc-476d-9b40-76781bba97f6",
   "metadata": {},
   "source": [
    "num: diagnosis of heart disease (angiographic disease status)\n",
    "\n",
    "4 sex: sex (1 = male; 0 = female)\n",
    "\n",
    "-- Value 0: < 50% diameter narrowing\n",
    "-- Value 1: > 50% diameter narrowing\n",
    "\n",
    "(in any major vessel: attributes 59 through 68 are vessels)\n",
    "\n",
    "ca: number of major vessels (0-3) colored by flourosopy \n",
    "\n",
    "thal: 3 = normal; 6 = fixed defect; 7 = reversable defect\n",
    "\n",
    "slope: the slope of the peak exercise ST segment\n",
    "\n",
    "-- Value 1: upsloping\n",
    "\n",
    "-- Value 2: flat\n",
    "\n",
    "-- Value 3: downsloping\n",
    "\n",
    "\n",
    "exercise.induced.angina (1 = yes; 0 = no)\n",
    "\n",
    "(fasting blood sugar_>_120 mg/dl)_(1_=_true;_0_=_false)\n",
    "\n",
    "restecg: resting electrocardiographic results\n",
    "\n",
    "-- Value 0: normal\n",
    "\n",
    "-- Value 1: having ST-T wave abnormality (T wave inversions and/or ST elevation or depression of > 0.05 mV)\n",
    "\n",
    "-- Value 2: showing probable or definite left ventricular hypertrophy by Estes' criteria\n",
    "\n"
   ]
  },
  {
   "cell_type": "markdown",
   "id": "1b327573-d1be-4f42-961e-710a7e3457aa",
   "metadata": {
    "tags": []
   },
   "source": [
    "## Methods"
   ]
  },
  {
   "cell_type": "markdown",
   "id": "eb94415a-6cde-49ba-b5ea-ec4cea3d8848",
   "metadata": {},
   "source": [
    "- Explain how you will conduct either your data analysis and which variables/columns you will use. Note - you do not need to use all variables/columns that exist in the raw data set. In fact, that's often not a good idea.\n",
    "- For each variable think: is this a useful variable for prediction?\n",
    "- Describe at least one way that you will visualize the results"
   ]
  },
  {
   "cell_type": "markdown",
   "id": "85cf0781-b8df-4752-94c8-46a3a2ce909c",
   "metadata": {},
   "source": [
    "We will be using age, resting blood pressure, and resting heart rate as predictors for our data analysis.  "
   ]
  },
  {
   "cell_type": "markdown",
   "id": "aaa18385-9537-4d65-833c-ee7c255b6702",
   "metadata": {},
   "source": [
    "## Expected outcomes and significance:"
   ]
  },
  {
   "cell_type": "markdown",
   "id": "854939cb-289b-4b2e-92f3-21fb6188809e",
   "metadata": {},
   "source": [
    "- What do you expect to find?\n",
    "- What impact could such findings have?\n",
    "- What future questions could this lead to?"
   ]
  },
  {
   "cell_type": "markdown",
   "id": "26558522-209b-4a31-8163-f6167be9dd1b",
   "metadata": {},
   "source": [
    "We expected to find age as a leading predictor for heart disease. We also expect cholesterol to be a good predictor for specific heart disease too.  The impact of this could be very beneficial.  For example, people could be screened for high cholesterol levels as they get older to try and prevent heart disease.  If a person is older and is found to have high cholesterol, they could adapt a healthier lifestyle and prevent a heart attack or other disaster. Some future questions this could lead to include why age leads to an increased risk of heart disease, and how to help people who are genetically predisposed to have higher levels of cholesterol."
   ]
  }
 ],
 "metadata": {
  "kernelspec": {
   "display_name": "R",
   "language": "R",
   "name": "ir"
  },
  "language_info": {
   "codemirror_mode": "r",
   "file_extension": ".r",
   "mimetype": "text/x-r-source",
   "name": "R",
   "pygments_lexer": "r",
   "version": "4.1.3"
  },
  "toc-showcode": true
 },
 "nbformat": 4,
 "nbformat_minor": 5
}
