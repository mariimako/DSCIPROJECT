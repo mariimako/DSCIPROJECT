{
 "cells": [
  {
   "cell_type": "markdown",
   "id": "fc1bb13f-46cb-4d43-a232-c058ae5e6d60",
   "metadata": {
    "tags": []
   },
   "source": [
    "# Project Proposal"
   ]
  },
  {
   "cell_type": "markdown",
   "id": "0f8a8296-6944-4273-bc99-24c663571b61",
   "metadata": {
    "tags": []
   },
   "source": [
    "## Introduction"
   ]
  },
  {
   "cell_type": "markdown",
   "id": "afd69bd9-8d02-4cd6-9bce-7f0632a54cdb",
   "metadata": {},
   "source": [
    "Provide some relevant background information on the topic so that someone unfamiliar with it will be prepared to understand the rest of your proposal\n",
    "Clearly state the question you will try to answer with your project\n",
    "Identify and describe the dataset that will be used to answer the question"
   ]
  },
  {
   "cell_type": "markdown",
   "id": "d7c85358-c92d-4f37-9832-fc74484cece0",
   "metadata": {
    "tags": []
   },
   "source": [
    "## Preliminary exploratory data analysis:"
   ]
  },
  {
   "cell_type": "markdown",
   "id": "0502aedb-a20b-4c6a-b915-9cc5a0d4138e",
   "metadata": {},
   "source": [
    "- Demonstrate that the dataset can be read from the web into R \n",
    "- Clean and wrangle your data into a tidy format\n",
    "- Using only training data, summarize the data in at least one table (this is exploratory data analysis). An example of a useful table could be one that reports the number of observations in each class, the means of the predictor variables you plan to use in your analysis and how many rows have missing data. \n",
    "- Using only training data, visualize the data with at least one plot relevant to the analysis you plan to do (this is exploratory data analysis). An example of a useful visualization could be one that compares the distributions of each of the predictor variables you plan to use in your analysis."
   ]
  },
  {
   "cell_type": "markdown",
   "id": "1b327573-d1be-4f42-961e-710a7e3457aa",
   "metadata": {
    "tags": []
   },
   "source": [
    "## Methods"
   ]
  },
  {
   "cell_type": "markdown",
   "id": "eb94415a-6cde-49ba-b5ea-ec4cea3d8848",
   "metadata": {},
   "source": [
    "- Explain how you will conduct either your data analysis and which variables/columns you will use. Note - you do not need to use all variables/columns that exist in the raw data set. In fact, that's often not a good idea.\n",
    "- For each variable think: is this a useful variable for prediction?\n",
    "- Describe at least one way that you will visualize the results"
   ]
  },
  {
   "cell_type": "markdown",
   "id": "aaa18385-9537-4d65-833c-ee7c255b6702",
   "metadata": {},
   "source": [
    "## Expected outcomes and significance:"
   ]
  },
  {
   "cell_type": "markdown",
   "id": "854939cb-289b-4b2e-92f3-21fb6188809e",
   "metadata": {},
   "source": [
    "- What do you expect to find?\n",
    "- What impact could such findings have?\n",
    "- What future questions could this lead to?"
   ]
  },
  {
   "cell_type": "code",
   "execution_count": null,
   "id": "e025f3c6-15ae-4f4e-b085-b0b46cf33c8f",
   "metadata": {},
   "outputs": [],
   "source": []
  }
 ],
 "metadata": {
  "kernelspec": {
   "display_name": "R",
   "language": "R",
   "name": "ir"
  },
  "language_info": {
   "codemirror_mode": "r",
   "file_extension": ".r",
   "mimetype": "text/x-r-source",
   "name": "R",
   "pygments_lexer": "r",
   "version": "4.1.3"
  }
 },
 "nbformat": 4,
 "nbformat_minor": 5
}
