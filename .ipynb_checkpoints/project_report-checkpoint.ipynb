{
 "cells": [
  {
   "cell_type": "markdown",
   "id": "fc1bb13f-46cb-4d43-a232-c058ae5e6d60",
   "metadata": {
    "tags": [],
    "toc-hr-collapsed": true
   },
   "source": [
    "# Predicting and Exploring Heart Disease through Cholesterol, Blood Pressure, and Age \n",
    "#### By Marius Shepherd, Sarenna Ulman, Hayden Hong, Baray Sidhu\n"
   ]
  },
  {
   "cell_type": "markdown",
   "id": "e8e608ff-d52c-4d08-9386-ac53db116ad3",
   "metadata": {
    "jp-MarkdownHeadingCollapsed": true,
    "tags": []
   },
   "source": [
    "# Introduction:"
   ]
  },
  {
   "cell_type": "markdown",
   "id": "d14d2170-5ea1-44f8-816b-6188894bd154",
   "metadata": {},
   "source": [
    "We are trying to answer the question:\n",
    "\n",
    "Is it possible to predict the result of a heart disease diagnosis of a patient based on a patient's cholesterol levels, blood pressure and age through classification?\n",
    "\n",
    "We will be using the Heart Disease dataset from UCI, linked here:\n",
    "\n",
    "https://archive.ics.uci.edu/ml/datasets/Heart+Disease Specifically, we used the Cleveland Processed Data, https://archive.ics.uci.edu/ml/machine-learning-databases/heart-disease/processed.cleveland.data\n",
    "This dataset was taken from the UCI machine learning repository, specifically the Cleveland dataset which takes data of patients from Long Beach and Cleveland Clinic Foundation, taken in 1988.\n",
    "\n",
    "The dataset contains data regarding heart disease patients and relevant information such as sex, age, cholesterol, max heart rate and more. Other columns include more technical terms, however, many of them will not be used as predictors. More information on our predictors will follow.\n",
    "\n",
    "Heart disease refers to several types of heart related sicknesses including heart attacks, unstable angina and much more. This data set categorizes the result of the patient's diagnosis to 4 types of categories: typical angina, atypical angina, non-anginal pain, and asymptomatic. We will be generalizing this to presence and absence of heart disease, with asymptomatic being absence and the rest being presence of heart disease.\n",
    "\n",
    "Our variables of interest:\n",
    "\n",
    "age: age of the patient recorded \\\n",
    "cholesterol: Serum cholesterol, or total cholesterol recorded in mg/dl in each patient \\\n",
    "rbp: resting blood pressure, blood pressure of patient at rest \\\n",
    "disease: the result of diagnosis for heart disease, we will categorize 0 to be absence and 1-4 to be presence, ignoring the stage and severity of the heart disease. "
   ]
  },
  {
   "cell_type": "markdown",
   "id": "ddd7a8bb-4c0e-456d-a689-c01040249b10",
   "metadata": {
    "jp-MarkdownHeadingCollapsed": true,
    "tags": []
   },
   "source": [
    "# Methods & Results:"
   ]
  },
  {
   "cell_type": "markdown",
   "id": "06edde9c-1088-4316-b3d8-c3a67a2c9678",
   "metadata": {},
   "source": [
    "We will be using age, resting blood pressure and cholesterol levels as predictors for our data analysis. We can visualize the results of using a classification model by getting the accuracy using collect_metrics and the confusion matrix to asses our model, or plotting our predictors with each other to see a correlation. This can be plotted to further visualize our accuracy results. We will use knn classification to predict whether or not new patients will develop heart disease based on their age, blood pressure, and cholesterol levels.\n",
    "\n",
    "Predictors:\n",
    "\n",
    "Age:\n",
    "\tAccording to the National Institute on Aging, individuals that are older have a higher likelihood of having heart disease. This is the case as there is an “increased stiffness of large arteries” that contributes to the “buildup of fatty deposits in the walls of arteries.”\n",
    "\n",
    "https://www.nia.nih.gov/health/heart-health-and-aging\n",
    "\n",
    "Cholesterol: \n",
    "\tAccording to cleveland clinic, cholesterol “leads to a buildup of plaque inside your blood vessels”. This buildup of plaque then “limits how much blood can flow,” thus, causing heart disease as well as other medical conditions. Our visualizations also support this.\n",
    "\t\n",
    "https://my.clevelandclinic.org/health/articles/11918-cholesterol-high-cholesterol-diseases\n",
    "\n",
    "Resting Blood Pressure:\n",
    "\tAccording to the Centers for Disease Control and Prevention, having a higher resting blood pressure can “damage arteries by making them less elastic.” This leads to being less blood flow to the heart.\n",
    "\n",
    "https://www.cdc.gov/bloodpressure/about.htm#:~:text=High%20blood%20pressure%20can%20damage%20your%20arteries%20by%20making%20them,Chest%20pain%2C%20also%20called%20angina.\n"
   ]
  },
  {
   "cell_type": "code",
   "execution_count": null,
   "id": "7371706c-69d5-4d04-8264-f663b02ef410",
   "metadata": {},
   "outputs": [],
   "source": [
    "### Run this cell before continuing.\n",
    "library(tidyverse)\n",
    "library(repr)\n",
    "library(tidymodels)\n",
    "library(cowplot)\n",
    "options(repr.matrix.max.rows = 6)"
   ]
  },
  {
   "cell_type": "markdown",
   "id": "a97af61d-ff6b-46f3-8442-22fc1333c744",
   "metadata": {
    "jp-MarkdownHeadingCollapsed": true,
    "tags": []
   },
   "source": [
    "## Loading the Data"
   ]
  },
  {
   "cell_type": "markdown",
   "id": "7140f031-2ad3-42b5-92c3-d275bab25d7f",
   "metadata": {},
   "source": [
    "We will first load and clean the data. We must name the columns to useful names, and select the predictors we will be using. We will also ensure no unknown values are included, which were only denoted by a ? mark. We will also factor the catergorical data and rename the category of heart disease for simplifying the training process."
   ]
  },
  {
   "cell_type": "code",
   "execution_count": null,
   "id": "5dc26c6a-0dbd-430b-82cd-45f36bb1eca6",
   "metadata": {},
   "outputs": [],
   "source": [
    "# reading the data, it does not have column names\n",
    "heart_disease <- read_csv(url(\"https://archive.ics.uci.edu/ml/machine-learning-databases/heart-disease/processed.cleveland.data\"),\n",
    "                         col_names = FALSE)\n",
    "\n",
    "# labelling columns, which are absent in the original dataset\n",
    "colnames(heart_disease) <- c(\"age\", \"sex\", \"chest_pain_type\", \"rbp\", \"cholesterol\", \n",
    "                      \"fbs\", \"rer\",\n",
    "                      \"max_heart_rate\",\"eia\", \"STdep\",\n",
    "                      \"slope\",\"ca\", \"thal\", \"disease\")\n",
    "\n",
    "# choosing only relevant predictors\n",
    "heart_disease <- heart_disease |> select(age, rbp, cholesterol, disease)\n",
    "\n",
    "# filter when data is unknown (the website tells us there are some unknown values, and they are labelled with \"?\")\n",
    "heart_disease <- heart_disease |> filter(age != \"?\")\n",
    "heart_disease <- heart_disease |> filter(rbp != \"?\")\n",
    "heart_disease <- heart_disease |> filter(age != \"?\")\n",
    "heart_disease <- heart_disease |> filter(cholesterol != \"?\")\n",
    "heart_disease <- heart_disease |> filter(disease != \"?\")\n",
    "\n",
    "\n",
    "# renaming heart disease categories to absence or presence. This simplifies the training process.\n",
    "heart_disease <- heart_disease |>\n",
    "             mutate(disease = case_when(disease == 0 ~ \"absence\", \n",
    "                                    disease == 1 ~ \"presence\",\n",
    "                                    disease == 2 ~ \"presence\",\n",
    "                                    disease == 3 ~ \"presence\",\n",
    "                                    disease == 4 ~ \"presence\"))\n",
    "\n",
    "# changing categorical data to factors, in which the presence or absence of disease is\n",
    "heart_disease <- heart_disease |> \n",
    "        mutate(disease = as_factor(disease))\n",
    "\n",
    "heart_disease"
   ]
  },
  {
   "cell_type": "markdown",
   "id": "a9f8d202-fed2-4d1d-99e4-45e020588011",
   "metadata": {
    "tags": []
   },
   "source": [
    "## Splitting and Table of Predictors"
   ]
  },
  {
   "cell_type": "markdown",
   "id": "bf712ab9-a3fb-4e71-a48a-ff33e6fe5870",
   "metadata": {},
   "source": [
    "We will now split the data to a training and testing set. This is for the purpose differeitiating what data to create the trained model and use the testing dataset for assesing the performance of our predictive model. We will split to 75% and 25%, which is a good balance between testing accuracy and model accuracy. \n"
   ]
  },
  {
   "cell_type": "code",
   "execution_count": null,
   "id": "378e11bf-93af-4336-baf6-1997aabfbaee",
   "metadata": {},
   "outputs": [],
   "source": [
    "# Splitting the data, we will be splitting to 75% and 25%, with strata = num to keep the distribution consistent\n",
    "set.seed(1)\n",
    "# we set seed to keep this consistent when others run it\n",
    "heart_split <- initial_split(heart_disease, prop = 0.75, strata = disease)\n",
    "heart_train <- training(heart_split)\n",
    "heart_test <- testing(heart_split)"
   ]
  },
  {
   "cell_type": "markdown",
   "id": "a5336565-f8e1-4328-8e2f-39851365bc5e",
   "metadata": {},
   "source": [
    "Now, we will create a table to summarize each of our predictors to understand the characteristics of each predictor. We will find the number of observations to understand how large our training data is, which may help us in the furture how we may increase accuracy by increasing this number. We will also take our average age of the patients to understand what age group this model may be relavant to. Furthermore, we take the average of serum cholestroel and blood pressure to observe how patients of this dataset compares with an average person. "
   ]
  },
  {
   "cell_type": "code",
   "execution_count": null,
   "id": "952dac74-1fcb-4cc3-95dc-16f2cc3e3d44",
   "metadata": {},
   "outputs": [],
   "source": [
    "## Table of data analysis\n",
    "\n",
    "# Getting the mean of the age \n",
    "average_age <- heart_train |> summarise(mean(age))\n",
    "\n",
    "# Number of observations of patients (number of patients/data) in the training set\n",
    "num_obs <- tibble(nrow(heart_train))\n",
    "\n",
    "# average of serum cholesterol, which is total cholesterol in body, used as a predictor\n",
    "avg_chol <- heart_train |> summarise(mean(cholesterol))\n",
    "\n",
    "# average of resting blood pressure \n",
    "avg_rbp <- heart_train |> summarise(mean(rbp))\n",
    "\n",
    "# number of people with heart disease (any type) \n",
    "num_presence <- heart_train |> filter(disease == \"presence\")\n",
    "num_hd <- tibble(nrow(num_presence))"
   ]
  },
  {
   "cell_type": "code",
   "execution_count": null,
   "id": "69ee7f0f-74f7-491f-8561-4e99c123b2b0",
   "metadata": {},
   "outputs": [],
   "source": [
    "# putting together to one table\n",
    "data_analysis <- bind_cols(num_obs, average_age, avg_chol, avg_rbp, num_hd)\n",
    "\n",
    "colnames(data_analysis)  <- c(\"Number of Observations (Patients)\", \"Average Age\", \"Average Serum Cholesterol in mg/dl\", \"Average Resting Blood Pressure (mmHg), High\", \"Number of Patients with Diagnosed Heart Disease\")\n",
    "\n",
    "data_analysis"
   ]
  },
  {
   "cell_type": "markdown",
   "id": "212b2dd2-a2a3-4791-939d-5908b2ac501d",
   "metadata": {},
   "source": [
    "*Table 1, summary of dataset and our predictors*"
   ]
  },
  {
   "cell_type": "markdown",
   "id": "b7872e7f-56e1-41ff-95fe-e243a2df85bd",
   "metadata": {
    "jp-MarkdownHeadingCollapsed": true,
    "tags": []
   },
   "source": [
    "### Analysis via Summarizing\n",
    "The table summarizes the average of age, which can tell us that the age distribution is reasonably around 54. This helps us know that the dataset is a good representation of heart disease patients in terms of age. \n",
    "\n",
    "We have also averaged the predictors such as average cholesterol, average resting blood pressure, and counted the number of patients with heart disease. This gives us insight in how it compares with actual averages in real life. For example, average serum cholesterol is around 200 to 240 mg/dl (milligrams per deciliter), which show that this dataset and higher than average serum cholesterol in their blood. With regards to resting blood pressure, which the dataset refer to the upper number, is 131 mm Hg (millimeters mercury). This is slightly higher than the safe level, almost to hypertension level (dangerous). This provides good insight on what kind of patients are in the dataset and understand the characteristics of our model."
   ]
  },
  {
   "cell_type": "markdown",
   "id": "442f5c1d-a805-4582-8c95-fe8d970e9d64",
   "metadata": {
    "tags": []
   },
   "source": [
    "## Plotting Predictors"
   ]
  },
  {
   "cell_type": "markdown",
   "id": "f332fce8-2aba-4a3c-a358-a91ae7a6610e",
   "metadata": {},
   "source": [
    "Now we may plot our predictors to further visualize our training set and its characteristics. We will use a scatterplot and a box plot to do so. This will help us later understand reasons for accuracies/inaccuracies of our model."
   ]
  },
  {
   "cell_type": "code",
   "execution_count": null,
   "id": "264ba44a-56fd-4501-97a3-e899499c0f73",
   "metadata": {},
   "outputs": [],
   "source": [
    "# plotting for data analysis\n",
    "options(repr.plot.width = 25, repr.plot.height = 25) \n",
    "\n",
    "# plotting each predictor against each other and grouping by color\n",
    "scatter_plot1 <- heart_train |> ggplot(aes(x= rbp, y= age, color = disease)) + geom_point(size = 4) + \n",
    "            labs(x= \"Resting Blood Pressure (mmHg)\", y=\"Age (years)\", color = \"Heart Disease Presence\") +\n",
    "            ggtitle(\"Figure 1, Blood Pressure, Age and Heart Disease Presence\") +\n",
    "            theme(text=element_text(size=20)) +\n",
    "            theme(plot.title = element_text(hjust = 0.5))\n",
    "scatter_plot2 <- heart_train |> ggplot(aes(x= cholesterol, y= age, color = disease)) + geom_point(size = 4) + \n",
    "            labs(x= \"Resting Blood Pressure (mmHg)\", y=\"Age (years)\", color = \"Heart Disease Presence\") +\n",
    "            ggtitle(\"Figure 2, Cholesterol, Age and Heart Disease Presence\") +\n",
    "            theme(text=element_text(size=20)) +\n",
    "            theme(plot.title = element_text(hjust = 0.5))\n",
    "scatter_plot3 <- heart_train |> ggplot(aes(x= cholesterol, y= rbp, color = disease)) + geom_point(size = 4) + \n",
    "            labs(x= \"Cholesterol (mg/dl)\", y=\"Resting Blood Pressure (mmHg)\", color = \"Heart Disease Presence\") +\n",
    "            ggtitle(\"Figure 3, Cholesterol, Blood Pressure, and Heart Disease Presence\") +\n",
    "            theme(text=element_text(size=20)) +\n",
    "            theme(plot.title = element_text(hjust = 0.5))\n",
    "\n",
    "# plot all together using cowplot\n",
    "plot_grid(scatter_plot1, scatter_plot2, scatter_plot3)\n"
   ]
  },
  {
   "cell_type": "code",
   "execution_count": null,
   "id": "8d741648-3d3c-4b7e-af1a-151b6e61ccba",
   "metadata": {},
   "outputs": [],
   "source": [
    "options(repr.plot.width = 20, repr.plot.height = 20) \n",
    "\n",
    "cholesterol_boxplot <- heart_train |> ggplot(aes(x= disease, y = cholesterol, fill = disease)) + geom_boxplot() + \n",
    "            labs(x= \"Presence Of Heart Disease\", y=\"Blood Cholesterol in mg/dl\", fill =\"Heart Disease\") +\n",
    "            ggtitle(\"Figure 4, Blood Pressure and Heart Disease Presence\") +\n",
    "            theme(text=element_text(size=15)) +\n",
    "            theme(plot.title = element_text(hjust = 0.5))\n",
    "rbp_boxplot <- heart_train |> ggplot(aes(x= disease, y = rbp, fill = disease)) + geom_boxplot() + \n",
    "            labs(x= \"Presence Of Heart Disease\", y=\"Resting Blood Pressure (mmHg)\", fill =\"Heart Disease\") +\n",
    "            ggtitle(\"Figure 5, Blood Pressure and Heart Disease Presence\") +\n",
    "            theme(text=element_text(size=15)) +\n",
    "            theme(plot.title = element_text(hjust = 0.5))\n",
    "age_boxplot <- heart_train |> ggplot(aes(x= disease, y = age, fill = disease)) + geom_boxplot() + \n",
    "            labs(x= \"Presence Of Heart Disease\", y=\"Age (years)\", fill =\"Heart Disease\") +\n",
    "            ggtitle(\"Figure 6, Blood Pressure and Heart Disease Presence\") +\n",
    "            theme(text=element_text(size=15)) +\n",
    "            theme(plot.title = element_text(hjust = 0.5))\n",
    "\n",
    "# plot all together using cowplot\n",
    "plot_grid(cholesterol_boxplot, rbp_boxplot, age_boxplot)"
   ]
  },
  {
   "cell_type": "markdown",
   "id": "e0ea7ec3-0f72-4743-a041-4179d8c1606d",
   "metadata": {},
   "source": [
    "### Visualization\n",
    "\n",
    "The first set of plots are sactter plots of each of our predictors against each other, grouped by the presence of heart disease. We see across all the scatter plots, there is no clear grouping of data points with their presence or absence of heart disease. This may indicate that the predictors are not good in making predictions. \n",
    "\n",
    "The second set of plots are box plots of each predictor, grouped by the presence of absence of heart disease. We see that for blood cholesterol and resting blood pressure, there is no significant difference in the distribution of the rpedictor among patients with heart disease or wwithout it.This means the amount of cholesterol/high blood pressure may not be able to predict the presence of heart disease. However, we see that in the third boxplot, there is a noticable difference in the age group of people with the presence of heart disease. However, because there is still significant overlap in the age groups where heart disease was presence vs absent, we cannot say age itself is a good predictor."
   ]
  },
  {
   "cell_type": "markdown",
   "id": "5b2e1959-d45c-407a-99f8-e617452c70fc",
   "metadata": {
    "jp-MarkdownHeadingCollapsed": true,
    "tags": []
   },
   "source": [
    "# Performing the Data Analysis"
   ]
  },
  {
   "cell_type": "markdown",
   "id": "2cfe3d2a-fa30-46e9-9954-8731c2a60af0",
   "metadata": {},
   "source": [
    "We will now perfrom the data analysis to answer our question. We will use KNN classification to create a classifier to predict patients heart disease diagnosis. First, we will figure the best k value, or the number of neighbors the k nearest classification algorithm uses to have maximum accuracy using the vfold function. We first scale and set up the recipe for the classifier, using our predictors. We will set neighbors as tune() as we will perform cross validation and see acuracies across many k values to determine the k value that results in the highest accuracy."
   ]
  },
  {
   "cell_type": "code",
   "execution_count": null,
   "id": "dedafdd9-6d44-4ea1-8859-f39af3de73a2",
   "metadata": {},
   "outputs": [],
   "source": [
    "heart_recipe <- recipe(disease ~ age + rbp + cholesterol, data = heart_train) |>\n",
    "    step_scale(all_predictors()) |>\n",
    "    step_center(all_predictors())\n",
    "\n",
    "knn_spec <- nearest_neighbor(weight_func = \"rectangular\", neighbors = tune()) |>\n",
    "    set_engine(\"kknn\") |>\n",
    "    set_mode(\"classification\")"
   ]
  },
  {
   "cell_type": "markdown",
   "id": "09c79c04-909f-4f25-bb45-4151498ffa68",
   "metadata": {},
   "source": [
    "We will now conduct cross validation with 5 folds and do so for k values 1 to 50. Cross validation ensures that the accuracy of the model accuracy is valid by using different sets of training/validation sets. We would asses the accuracy of each k value cross validation by the collect metrics function. Because of the size of our dataset shown table 1, (227) we may reasonably expect the k value to be low, or to be in this range (1-50)."
   ]
  },
  {
   "cell_type": "code",
   "execution_count": null,
   "id": "934a7216-0ac6-4066-bc95-15de34318b96",
   "metadata": {},
   "outputs": [],
   "source": [
    "# performing 5 cross validation\n",
    "heart_vfold <- vfold_cv(heart_train, v = 5, strata = disease)\n",
    "\n",
    "k_vals <- tibble(neighbors = seq(from = 1, to = 50, by = 1))\n",
    "# apply different k values, performing cross validation for each k value\n",
    "knn_results <- workflow() |>\n",
    "    add_recipe(heart_recipe) |>\n",
    "    add_model(knn_spec) |>\n",
    "    tune_grid(resamples = heart_vfold, grid = k_vals) |>\n",
    "    collect_metrics()"
   ]
  },
  {
   "cell_type": "markdown",
   "id": "be91c7bc-8782-4880-b597-248e1f92171a",
   "metadata": {},
   "source": [
    "Now, we may represent in a table our results, showing the neighbors and their corresponding accuracy, represented as the mean."
   ]
  },
  {
   "cell_type": "code",
   "execution_count": null,
   "id": "c047e275-7645-4bcd-a204-f501ddd5a575",
   "metadata": {},
   "outputs": [],
   "source": [
    "accuracies <- knn_results |>\n",
    "    filter(.metric == \"accuracy\") |> select(neighbors, mean)\n",
    "\n",
    "accuracies"
   ]
  },
  {
   "cell_type": "markdown",
   "id": "6dfe547f-e6de-4fcf-a1e6-c090307b5522",
   "metadata": {},
   "source": [
    "*Table 2, result of cross validation and tuning*"
   ]
  },
  {
   "cell_type": "markdown",
   "id": "b41771a9-dcf7-4002-b3a9-26a8c63a51b8",
   "metadata": {},
   "source": [
    "Visualizing our results, we may see the k value that induces the greatest accuracy, and also find manually using the arrange function."
   ]
  },
  {
   "cell_type": "code",
   "execution_count": null,
   "id": "daac6e2e-8003-4947-90c7-5cb8edd2b46f",
   "metadata": {},
   "outputs": [],
   "source": [
    "accuracy_vs_k <- accuracies |>\n",
    "    ggplot(aes(x = neighbors, y = mean)) +\n",
    "    geom_point() +\n",
    "    geom_line() +\n",
    "    labs(x = \"Neighbors\", y = \"Accuracy Estimate\") + \n",
    "    theme(text = element_text(size = 20)) +\n",
    "    ggtitle(\"Figure 7, Accuracy for Each k Value\")\n",
    "accuracy_vs_k"
   ]
  },
  {
   "cell_type": "code",
   "execution_count": null,
   "id": "489da82a-5c35-43a2-b054-c3a1f1586ff8",
   "metadata": {},
   "outputs": [],
   "source": [
    "max_accuracy_k <- accuracies |> arrange(desc(mean)) |> select (neighbors)|> head(1) |> pull()\n",
    "max_accuracy_k"
   ]
  },
  {
   "cell_type": "markdown",
   "id": "43cecc14-6ec1-4dce-b2d3-b454192d4995",
   "metadata": {},
   "source": [
    "This concludes that we should use a k value of 15 to use in our KNN classification. Using our test data, we may assess the RMSPE of our classification model, which will show us our results of our predictor. We will create a workflow and fit our KNN classification model to our training set, and assess the accuracy by making predictions using the test data. We will create a table with the predicted value and the true value in the test dataset."
   ]
  },
  {
   "cell_type": "code",
   "execution_count": null,
   "id": "e80ffc21-917b-46b0-b11f-15eb35b17ffb",
   "metadata": {},
   "outputs": [],
   "source": [
    "knn_spec_15 <- nearest_neighbor(weight_func = \"rectangular\", neighbors = max_accuracy_k) |>\n",
    "    set_engine(\"kknn\") |>\n",
    "    set_mode(\"classification\")\n",
    "\n",
    "knn_fit_15 <- workflow() |>\n",
    "    add_recipe(heart_recipe) |>\n",
    "    add_model(knn_spec_15) |>\n",
    "    fit(data = heart_train)\n",
    "\n",
    "heart_test_prediction <- predict(knn_fit_15, heart_test) |>\n",
    "    bind_cols(heart_test)\n",
    "\n",
    "heart_test_prediction "
   ]
  },
  {
   "cell_type": "markdown",
   "id": "8dc2c43d-a3ca-4381-83d2-5e3241923a30",
   "metadata": {},
   "source": [
    "*Table 4, Predictors, predicted class by model and the true result*"
   ]
  },
  {
   "cell_type": "markdown",
   "id": "13cef3b6-98e5-442a-9d62-7aee6645fe95",
   "metadata": {},
   "source": [
    "Now, using this table we will assess the accuracy of our model by using the metrics function, comparing the true value and predicted value."
   ]
  },
  {
   "cell_type": "code",
   "execution_count": null,
   "id": "16bd92f8-89c3-4e66-a180-b967c54909de",
   "metadata": {},
   "outputs": [],
   "source": [
    "heart_test_prediction |> \n",
    "            metrics(truth = disease, estimate = .pred_class) |> \n",
    "            filter(.metric == \"accuracy\")"
   ]
  },
  {
   "cell_type": "markdown",
   "id": "9d0cd559-4a4e-4cca-83a3-0128a46ac248",
   "metadata": {},
   "source": [
    "*Table 5, Accuracy of model*"
   ]
  },
  {
   "cell_type": "markdown",
   "id": "bc33d7f3-38e6-4dff-8c42-5f67cd59c6d9",
   "metadata": {},
   "source": [
    "We see that our accuracy is approximately 65%. We will further investigate this value."
   ]
  },
  {
   "cell_type": "markdown",
   "id": "06e110e6-2a48-4710-ab30-e5b622782fef",
   "metadata": {},
   "source": [
    "Now, we will also see the confusion matrix of our model that was tested using the testing set. We will be able to see how may incorrect predictions we had and correct predictions we had. We will visualizse this as a bar graph."
   ]
  },
  {
   "cell_type": "code",
   "execution_count": null,
   "id": "26b7a020-8af4-49be-b384-587fea62da7d",
   "metadata": {},
   "outputs": [],
   "source": [
    "confusion <- heart_test_prediction |> \n",
    "            conf_mat(truth = disease, estimate = .pred_class)\n",
    "confusion"
   ]
  },
  {
   "cell_type": "markdown",
   "id": "63c95f62-53c1-4186-a72f-ec199dbb976d",
   "metadata": {},
   "source": [
    "*Table 6, Confusion Matrix, showing accurate and inaccurate predictions* "
   ]
  },
  {
   "cell_type": "code",
   "execution_count": null,
   "id": "da7dc9e3-c16d-40a0-a53c-3eda888b2271",
   "metadata": {},
   "outputs": [],
   "source": [
    "autoplot(confusion, type = \"heatmap\") + labs(x= \"True Value\", y= \"Predicted Value\") +\n",
    "theme(text = element_text(size = 15)) + \n",
    "ggtitle(\"Figure 4, Confusion Heat Map for Number of Correct and Incorrect Predictions\")"
   ]
  },
  {
   "cell_type": "markdown",
   "id": "38ca70bb-2fdf-435a-90fb-11fdcce33e06",
   "metadata": {},
   "source": [
    "We will first map the correctness of the values for age and cholesterol. We may create a new column that determines\n",
    "if the predicted value was correct or not, and see if we can identify a cause for the incorrect predictions."
   ]
  },
  {
   "cell_type": "code",
   "execution_count": null,
   "id": "58df1662-717e-4b49-a924-72a98f556e43",
   "metadata": {},
   "outputs": [],
   "source": [
    "# creating a new column to represent the correctness of the prediction\n",
    "correctness_assess <- heart_test_prediction |> mutate(Correctness=case_when(.pred_class == \"presence\" & disease == \"absence\" ~ \"incorrect\",\n",
    "                                                      .pred_class == \"absence\" & disease == \"presence\" ~ \"incorrect\",\n",
    "                                                     .pred_class == \"presence\" & disease == \"presence\" ~ \"correct\",\n",
    "                                                     .pred_class == \"absence\" & disease == \"absence\" ~ \"correct\"))\n",
    "# change this new column to a factor, as it is catergorical\n",
    "correctness_assess <- mutate(correctness_assess, Correctness = as_factor(Correctness))\n",
    "# label incorrect values as incorrect in prediction class,leave everything else as is\n",
    "correctness_assess <- correctness_assess |> mutate(.pred_class=case_when(Correctness == \"incorrect\" ~ \"incorrect\",\n",
    "                                                                         Correctness == \"correct\" & .pred_class == \"presence\" ~ \"presence\",\n",
    "                                                                         Correctness == \"correct\" & .pred_class == \"absence\" ~ \"absence\"))\n",
    "correctness_assess\n"
   ]
  },
  {
   "cell_type": "markdown",
   "id": "e4b29a43-a678-4541-bf08-c007e2a38412",
   "metadata": {},
   "source": [
    "*Table 6, corectness of model and incorrectness of predicted class*"
   ]
  },
  {
   "cell_type": "code",
   "execution_count": null,
   "id": "7de971e7-5d52-4847-9c8d-1035baab0359",
   "metadata": {},
   "outputs": [],
   "source": [
    "# first plot against age and cholesterol, with the correctness of the prediction\n",
    "correctness_plot1 <- ggplot() + \n",
    "                    geom_point(data = correctness_assess, mapping = aes(x = age, \n",
    "                           y = cholesterol, \n",
    "                           color = .pred_class, shape = .pred_class), \n",
    "                             alpha = 10, size = 5) + \n",
    "                    ggtitle(\"Figure 5, Correctness of Prediction against Cholesterol and Age\") + \n",
    "                    labs(x=\"Age (years)\", y= \"Cholesterol in mg/dl\") +\n",
    "                    theme(text = element_text(size = 15)) "
   ]
  },
  {
   "cell_type": "code",
   "execution_count": null,
   "id": "28b3cd0f-7971-4afa-8bbd-2b09a28aaab8",
   "metadata": {},
   "outputs": [],
   "source": [
    "# second plot against age and blood pressure, with the correctness of the prediction\n",
    "correctness_plot2 <- ggplot() + \n",
    "            geom_point(data = correctness_assess, mapping = aes(x = age, \n",
    "                           y = rbp, \n",
    "                           color = .pred_class, shape = .pred_class), \n",
    "             alpha = 10, size = 5) + \n",
    "            labs(x=\"Age (years)\", y= \"Resting Blood Pressure (mmHg)\") +\n",
    "            ggtitle(\"Figure 6, Correctness of Prediction against Blood Pressure and Age\") + \n",
    "            theme(text = element_text(size = 15)) "
   ]
  },
  {
   "cell_type": "code",
   "execution_count": null,
   "id": "77b77efa-df26-4f2c-8dfe-02e230e9a5a4",
   "metadata": {},
   "outputs": [],
   "source": [
    "# third plot against cholesterol and blood pressure, with the correctness of the prediction\n",
    "correctness_plot3 <- ggplot() + \n",
    "                    geom_point(data = correctness_assess, mapping = aes(x = rbp, \n",
    "                           y = cholesterol, \n",
    "                           color = .pred_class, shape = .pred_class, group = .pred_class), \n",
    "                             alpha = 10, size = 5) + \n",
    "                     labs(x=\"Resting Blood Pressure (mmHg)\", y= \"Cholesterol in mg/dl\") +\n",
    "                    ggtitle(\"Figure 7, Correctness of Prediction against Cholesterol and Age\") + \n",
    "                    theme(text = element_text(size = 15)) "
   ]
  },
  {
   "cell_type": "code",
   "execution_count": null,
   "id": "540a893f-ec6f-4c18-866e-c21e08267dc7",
   "metadata": {},
   "outputs": [],
   "source": [
    "# usage of plot_grid from the cowplot library, to have graphs side by side\n",
    "options(repr.plot.width = 20, repr.plot.height = 20) \n",
    "plot_grid(correctness_plot1, correctness_plot2, correctness_plot3, labels = \"AUTO\", label_size = 30)\n"
   ]
  },
  {
   "cell_type": "code",
   "execution_count": null,
   "id": "47e784de-8f63-41e8-b270-f8531551dcef",
   "metadata": {},
   "outputs": [],
   "source": [
    "# bar graph to represent correct number of predictions and incorrect predictions\n",
    "options(repr.plot.width = 10, repr.plot.height = 10) \n",
    "\n",
    "correctness_barplot <- correctness_assess |> ggplot(aes(x = Correctness, fill = Correctness)) + \n",
    "geom_bar(position = \"dodge\") + labs(y = \"Number of Predictions\", x = \"Result of Prediction\") + \n",
    "ggtitle(\"Figure 8, Number of Correct Predictions\") + theme(text = element_text(size = 15))\n",
    "\n",
    "correctness_barplot"
   ]
  },
  {
   "cell_type": "markdown",
   "id": "cbd73b13-d608-4dc5-a430-9802ac9d056d",
   "metadata": {},
   "source": [
    "In figures 5 6 and 7, we see the incorrect predictions made plotted with the predictors. We see that none of the predictors have any consistent grouping with the incorrect predicitons. This means we cannot tell which predictor is not good\n",
    "\n",
    "We see that there were 30 correct predictions of the absence of heart disease, and 11 incorrect predictions. There were 19 correct predictions of presence and 16 predictions of absence. Nearly half of our predictions are incorrect which is not good in the context of heart disease. We may further investigate by comparing with the majority classifer. It may turn out that our dataset naturally had more of heart disease presence than absence.\n",
    "\n",
    "The cause of this low is likely due to our predictors not being clearly grouped well: we see that when we have plotted in our data anlaysis that all predictors did not have clear groups to differientiate when heart disease is present or absent. Despite the promising analysis for age in Figure 3, we see that the age predictor did not result in a high accuracy, seen in figures Figure 5 and 6. We may observe the majority classifier and compare the accuracy of our model to truly put in context our results."
   ]
  },
  {
   "cell_type": "code",
   "execution_count": null,
   "id": "3d804d70-5746-4995-b990-16a4504ad5c1",
   "metadata": {},
   "outputs": [],
   "source": [
    "heart_train_proportions <- heart_train |>\n",
    "                      group_by(disease) |>\n",
    "                      summarize(n = n()) |>\n",
    "                      mutate(percent = 100*n/nrow(heart_train))\n",
    "\n",
    "heart_train_proportions"
   ]
  },
  {
   "cell_type": "markdown",
   "id": "45b3a1e9-9314-4a1d-9664-f6aa10c8afb6",
   "metadata": {},
   "source": [
    "*Table 8, Percentage of absence/presence of heart disease in training set*"
   ]
  },
  {
   "cell_type": "markdown",
   "id": "136d1515-9755-4f19-a6cb-1030f26ce860",
   "metadata": {},
   "source": [
    "We see that a majority classifier will have 54% accuracy in predicting absence of heart disease. Hence, we can say that our model does at least have an higher percentage than this at 64%, but far from good, in the context of heart disease. We do not want a patient with heart disease to be diagnosed without heart disease, as this puts patients at great risk. We may also compare the majority classfifier with the whole dataset and confirm that we have successfully split the data with representation. We will further discuss the results of our accuracy compared with the majority classifier, the plots given above to hypothesize why our model has its inaccuracies in the discussion section."
   ]
  },
  {
   "cell_type": "code",
   "execution_count": null,
   "id": "d03a4a4d-e453-4f9c-b5b6-d01e2d76bc2a",
   "metadata": {},
   "outputs": [],
   "source": [
    "heart_proportions <- heart_disease |>\n",
    "                      group_by(disease) |>\n",
    "                      summarize(n = n()) |>\n",
    "                      mutate(percent = 100*n/nrow(heart_disease))\n",
    "\n",
    "heart_proportions"
   ]
  },
  {
   "cell_type": "markdown",
   "id": "a02755d9-fa9f-44e8-bb2a-cafbb9ac8fb7",
   "metadata": {},
   "source": [
    "*Table 9, Percentage of absence/presence of heart disease in full dataset*"
   ]
  },
  {
   "cell_type": "markdown",
   "id": "2aa34a0a-3914-4d80-82e5-4034685c8d69",
   "metadata": {},
   "source": [
    "We see that the training set has successfully repreented the whole dataset, hence we may trust that the majority classifier is accurate for the training set."
   ]
  },
  {
   "cell_type": "markdown",
   "id": "4efd3b1b-b8b5-4841-8442-6c4045c49d25",
   "metadata": {
    "jp-MarkdownHeadingCollapsed": true,
    "tags": []
   },
   "source": [
    "# Discussion:\n",
    "summarize what you found\n",
    "discuss whether this is what you expected to find?\n",
    "discuss what impact could such findings have?\n",
    "discuss what future questions could this lead to?"
   ]
  },
  {
   "cell_type": "markdown",
   "id": "3578ebab-f55d-4d4e-aad9-32d50b3432ae",
   "metadata": {},
   "source": [
    "The data analysis shows that as age and resting blood pressure increase, so does the proportion of heart disease in a population - suggesting there to be a positive relationship. For example, a 50 year old with a resting blood pressure of 110 mmHg is significantly less likely to have heart disease than a 70 year old with 160mmHg resting blood pressure. In addition to this, the amount of blood cholesterol has a positive relationship with developing heart disease: the higher the blood cholesterol, the more likely it is the individual has heart disease. These findings agree with the literature. The heart weakens as a person ages; and a higher resting blood pressure is a measure of how fast the heart is pumping blood through the body, meaning, it’s logical to assume that higher blood pressure could lead to heart disease since the heart is working harder. Higher blood cholesterol being correlated with the presence of heart disease is expected as well, since the heart has to work harder to pump blood through smaller arteries. These findings could help prevent heart disease. While you can't prevent getting older, you can live a healthy lifestyle to keep your resting blood pressure and blood cholesterol levels low. In the future, possible research questions include specific and effective ways to lower resting blood pressure and blood cholesterol, or if certain people are genetically predisposed to higher levels of cholesterol and RBP, and therefore, predisposed to heart disease.\n",
    "\n",
    "Despite our predictors being strong indicators for heart disease, we have a low accurate prediction rate when testing on the testing data at 65%. A reason that may explain this low prediction rate is [ADD MORE HERE]"
   ]
  },
  {
   "cell_type": "markdown",
   "id": "2157794e-4b5b-4d70-b43f-d7c94de6b902",
   "metadata": {},
   "source": [
    "Reasoning:\n",
    "- Your predictive question is good, just remove the part that says \"regression\". You don't need to specify that you'll use classification in the question, but if you do, please say that it's KNN classification.\n",
    "- How will you show the KNN function on your final graphs? Unclear as to what you mean.\n",
    "- Your methods are sparse, and you spend a lot of the word count describing your figures, which is unnecessary. For the final project, make sure that any commentary on the figures is truly commentary and not just description.\n",
    "\n",
    "General Feedback:\n",
    "- Your future questions should be about the data or the applications of the model, not the model itself.\n",
    "- Your visualizations are great!! Unique and very descriptive. I'd like to see at least one general scatterplot in the final project but please keep doing interesting things.\n",
    "- You don't need to read in dplyr as it's part of tidyverse.\n",
    "- You spend a lot of time talking about diabetes and the effect of blood sugar on heart disease, but the effect itself seems to be fairly small. This makes your project feel somewhat tangential, as you're discussing diabetes but your model is about heart disease. I would like to see equal attention given to each predictor and more words spent discussing the model itself."
   ]
  },
  {
   "cell_type": "markdown",
   "id": "53dcc31c-0d4b-498b-b676-45dedd114ab5",
   "metadata": {},
   "source": [
    "The data analysis shows that as age and resting blood pressure increase, so does the proportion of heart disease in a population.  For example, a 50 year old with a resting blood pressure of 110 mmHg is significantly less likely to have heart disease than a 70 year old with 160mmHg resting blood pressure.  The amount of blood cholesterol is found to impact the likelihood of developing heart disease.  The higher the blood cholesterol, the more likely it is the individual has heart disease.  The results are not surprising.  The heart stops working as well as a person ages; and higher resting blood pressure is a measure of how fast the heart is pumping blood through the body, so it makes sense that higher blood pressure could lead to heart disease since the heart is working harder.  Higher blood cholesterol being correlated with the presence of heart disease is expected as well, since the heart has to work harder to pump blood through smaller arteries.  These findings could help prevent heart disease.  While you can't prevent getting older, you can live a healthy lifestyle to keep your resting blood pressure and blood cholesterol levels low.  In the future, possible research questions include specific and effective ways to lower resting blood pressure and blood cholesterol, or if certain people are genetically predisposed to higher levels of cholesterol and RBP, and therefore, predisposed to heart disease."
   ]
  },
  {
   "cell_type": "markdown",
   "id": "1de7ba59-d5a5-478e-ac94-874ae3c1f2f4",
   "metadata": {
    "jp-MarkdownHeadingCollapsed": true,
    "tags": []
   },
   "source": [
    "# References"
   ]
  },
  {
   "cell_type": "markdown",
   "id": "3faa281c-ed4c-4eab-8531-b19239936784",
   "metadata": {},
   "source": [
    "Data Set:\n",
    "\n",
    "University of California Irvine. (n.d.). Heart Disease Data Set. UCI Machine Learning Repository: Heart disease data set. Retrieved April 11, 2023, from https://archive.ics.uci.edu/ml/datasets/Heart+Disease\n",
    "\n",
    "Literature:\n",
    "\n",
    "Centers for Disease Control and Prevention. (2021, May 18). High blood pressure symptoms and causes. Centers for Disease Control and Prevention. Retrieved April 6, 2023, from https://www.cdc.gov/bloodpressure/about.htm#:~:text=High%20blood%20pressure%20can%20damage%20your%20arteries%20by%20making%20them,Chest%20pain%2C%20also%20called%20angina.\n",
    "\n",
    "Centers for Disease Control and Prevention. (2022, June 20). Diabetes and your heart. Centers for Disease Control and Prevention. Retrieved April 6, 2023, from https://www.cdc.gov/diabetes/library/features/diabetes-and-heart.html#:~:text=Over%20time%2C%20high%20blood%20sugar,and%20can%20damage%20artery%20walls.\n",
    "\n",
    "Cleveland Clinic. (n.d.). High cholesterol: Causes, symptoms and how it affects the body. Cleveland Clinic. Retrieved April 6, 2023, from https://my.clevelandclinic.org/health/articles/11918-cholesterol-high-cholesterol-diseases\n",
    "\n",
    "U.S. Department of Health and Human Services. (2018, June 1). Heart health and aging. National Institute on Aging. Retrieved April 6, 2023, from https://www.nia.nih.gov/health/heart-health-and-aging"
   ]
  }
 ],
 "metadata": {
  "kernelspec": {
   "display_name": "R",
   "language": "R",
   "name": "ir"
  },
  "language_info": {
   "codemirror_mode": "r",
   "file_extension": ".r",
   "mimetype": "text/x-r-source",
   "name": "R",
   "pygments_lexer": "r",
   "version": "4.1.3"
  },
  "toc-showcode": true
 },
 "nbformat": 4,
 "nbformat_minor": 5
}
