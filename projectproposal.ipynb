{
 "cells": [
  {
   "cell_type": "markdown",
   "id": "fc1bb13f-46cb-4d43-a232-c058ae5e6d60",
   "metadata": {
    "tags": [],
    "toc-hr-collapsed": true
   },
   "source": [
    "# Project Proposal"
   ]
  },
  {
   "cell_type": "markdown",
   "id": "0f8a8296-6944-4273-bc99-24c663571b61",
   "metadata": {
    "tags": []
   },
   "source": [
    "## Introduction"
   ]
  },
  {
   "cell_type": "markdown",
   "id": "afd69bd9-8d02-4cd6-9bce-7f0632a54cdb",
   "metadata": {},
   "source": [
    "Provide some relevant background information on the topic so that someone unfamiliar with it will be prepared to understand the rest of your proposal\n",
    "Clearly state the question you will try to answer with your project\n",
    "Identify and describe the dataset that will be used to answer the question"
   ]
  },
  {
   "cell_type": "markdown",
   "id": "87067bc1-f3f7-4860-b5ce-a04a3d37f049",
   "metadata": {},
   "source": [
    "The dataset contains data regarding heart disease patients and relavant information such as sex, age, cholesterol, max heart rate and more. Other columns include more technical terms, but many we will not be using as predictors.\n",
    "\n",
    "Heart disease refers to several types of heart related sicknesses such as heart attacks, unstable angina and may more. This data set categorizes the result of the patient's diagnosis to 4 types of categories: typical angina, atypical angina, non-anginal pain, and asymptomatic.\n",
    "\n",
    "One of the most common causes of death is heart disease. Claiming the lives of millions every year, the battle against heart disease is paramount. The most important step in treating heart disease is to first diagnose it. For this dataset, we will be using the age, fbs, cholesterol and resting blood pressure. Fbs refers to fasting blood sugar, which is the glucose level in blood after a fasting period. Resting blood pressure is blood pressure, which refers to the pressure exerted by blood flowing in the body at rest. Further explanation on why we are using these predictors are below. This dataset was taken from the UCI machine learning repository, specifically the Cleveland dataset which takes data of heart disease patients from Long Beach and Cleveland Clinic Foundation, taken in 1988. “Num” refers to if the patient has heart disease or not, with 0 meaning no and values ranging up to four indicating the stage of the heart diseases. The higher the number, the more severe the heart disease and close to heart failure. For the pupose of this project, we will be considering the presence of heart disease (from values 1 to 4) and 0 (absence of heart disease).\n"
   ]
  },
  {
   "cell_type": "markdown",
   "id": "d7c85358-c92d-4f37-9832-fc74484cece0",
   "metadata": {
    "tags": []
   },
   "source": [
    "## Preliminary exploratory data analysis:"
   ]
  },
  {
   "cell_type": "code",
   "execution_count": 4,
   "id": "f9c5a713-d382-46f7-9ec2-2b51e78736d9",
   "metadata": {},
   "outputs": [
    {
     "name": "stderr",
     "output_type": "stream",
     "text": [
      "── \u001b[1mAttaching packages\u001b[22m ─────────────────────────────────────── tidyverse 1.3.1 ──\n",
      "\n",
      "\u001b[32m✔\u001b[39m \u001b[34mggplot2\u001b[39m 3.3.6     \u001b[32m✔\u001b[39m \u001b[34mpurrr  \u001b[39m 0.3.4\n",
      "\u001b[32m✔\u001b[39m \u001b[34mtibble \u001b[39m 3.1.7     \u001b[32m✔\u001b[39m \u001b[34mdplyr  \u001b[39m 1.0.9\n",
      "\u001b[32m✔\u001b[39m \u001b[34mtidyr  \u001b[39m 1.2.0     \u001b[32m✔\u001b[39m \u001b[34mstringr\u001b[39m 1.4.0\n",
      "\u001b[32m✔\u001b[39m \u001b[34mreadr  \u001b[39m 2.1.2     \u001b[32m✔\u001b[39m \u001b[34mforcats\u001b[39m 0.5.1\n",
      "\n",
      "── \u001b[1mConflicts\u001b[22m ────────────────────────────────────────── tidyverse_conflicts() ──\n",
      "\u001b[31m✖\u001b[39m \u001b[34mdplyr\u001b[39m::\u001b[32mfilter()\u001b[39m masks \u001b[34mstats\u001b[39m::filter()\n",
      "\u001b[31m✖\u001b[39m \u001b[34mdplyr\u001b[39m::\u001b[32mlag()\u001b[39m    masks \u001b[34mstats\u001b[39m::lag()\n",
      "\n",
      "── \u001b[1mAttaching packages\u001b[22m ────────────────────────────────────── tidymodels 1.0.0 ──\n",
      "\n",
      "\u001b[32m✔\u001b[39m \u001b[34mbroom       \u001b[39m 1.0.0     \u001b[32m✔\u001b[39m \u001b[34mrsample     \u001b[39m 1.0.0\n",
      "\u001b[32m✔\u001b[39m \u001b[34mdials       \u001b[39m 1.0.0     \u001b[32m✔\u001b[39m \u001b[34mtune        \u001b[39m 1.0.0\n",
      "\u001b[32m✔\u001b[39m \u001b[34minfer       \u001b[39m 1.0.2     \u001b[32m✔\u001b[39m \u001b[34mworkflows   \u001b[39m 1.0.0\n",
      "\u001b[32m✔\u001b[39m \u001b[34mmodeldata   \u001b[39m 1.0.0     \u001b[32m✔\u001b[39m \u001b[34mworkflowsets\u001b[39m 1.0.0\n",
      "\u001b[32m✔\u001b[39m \u001b[34mparsnip     \u001b[39m 1.0.0     \u001b[32m✔\u001b[39m \u001b[34myardstick   \u001b[39m 1.0.0\n",
      "\u001b[32m✔\u001b[39m \u001b[34mrecipes     \u001b[39m 1.0.1     \n",
      "\n",
      "── \u001b[1mConflicts\u001b[22m ───────────────────────────────────────── tidymodels_conflicts() ──\n",
      "\u001b[31m✖\u001b[39m \u001b[34mscales\u001b[39m::\u001b[32mdiscard()\u001b[39m masks \u001b[34mpurrr\u001b[39m::discard()\n",
      "\u001b[31m✖\u001b[39m \u001b[34mdplyr\u001b[39m::\u001b[32mfilter()\u001b[39m   masks \u001b[34mstats\u001b[39m::filter()\n",
      "\u001b[31m✖\u001b[39m \u001b[34mrecipes\u001b[39m::\u001b[32mfixed()\u001b[39m  masks \u001b[34mstringr\u001b[39m::fixed()\n",
      "\u001b[31m✖\u001b[39m \u001b[34mdplyr\u001b[39m::\u001b[32mlag()\u001b[39m      masks \u001b[34mstats\u001b[39m::lag()\n",
      "\u001b[31m✖\u001b[39m \u001b[34myardstick\u001b[39m::\u001b[32mspec()\u001b[39m masks \u001b[34mreadr\u001b[39m::spec()\n",
      "\u001b[31m✖\u001b[39m \u001b[34mrecipes\u001b[39m::\u001b[32mstep()\u001b[39m   masks \u001b[34mstats\u001b[39m::step()\n",
      "\u001b[34m•\u001b[39m Learn how to get started at \u001b[32mhttps://www.tidymodels.org/start/\u001b[39m\n",
      "\n"
     ]
    }
   ],
   "source": [
    " ### Run this cell before continuing.\n",
    "library(tidyverse)\n",
    "library(repr)\n",
    "library(tidymodels)\n",
    "library(dplyr)\n",
    "options(repr.matrix.max.rows = 6)"
   ]
  },
  {
   "cell_type": "markdown",
   "id": "0502aedb-a20b-4c6a-b915-9cc5a0d4138e",
   "metadata": {},
   "source": [
    "- Demonstrate that the dataset can be read from the web into R \n",
    "- Clean and wrangle your data into a tidy format\n",
    "- Using only training data, summarize the data in at least one table (this is exploratory data analysis). An example of a useful table could be one that reports the number of observations in each class, the means of the predictor variables you plan to use in your analysis and how many rows have missing data. \n",
    "- Using only training data, visualize the data with at least one plot relevant to the analysis you plan to do (this is exploratory data analysis). An example of a useful visualization could be one that compares the distributions of each of the predictor variables you plan to use in your analysis.\n",
    "\n",
    "Link: https://archive.ics.uci.edu/ml/machine-learning-databases/heart-disease/processed.cleveland.data\n",
    "https://archive.ics.uci.edu/ml/datasets/Heart+Disease"
   ]
  },
  {
   "cell_type": "markdown",
   "id": "68dd05a9-f342-4813-ac75-7bff1183bc84",
   "metadata": {
    "tags": []
   },
   "source": [
    "### Cleaning and Reading the Data"
   ]
  },
  {
   "cell_type": "code",
   "execution_count": 7,
   "id": "10c1e242-eb18-4752-b1c6-012e4d4cd65f",
   "metadata": {},
   "outputs": [
    {
     "name": "stderr",
     "output_type": "stream",
     "text": [
      "\u001b[1mRows: \u001b[22m\u001b[34m303\u001b[39m \u001b[1mColumns: \u001b[22m\u001b[34m14\u001b[39m\n",
      "\u001b[36m──\u001b[39m \u001b[1mColumn specification\u001b[22m \u001b[36m────────────────────────────────────────────────────────\u001b[39m\n",
      "\u001b[1mDelimiter:\u001b[22m \",\"\n",
      "\u001b[31mchr\u001b[39m  (2): X12, X13\n",
      "\u001b[32mdbl\u001b[39m (12): X1, X2, X3, X4, X5, X6, X7, X8, X9, X10, X11, X14\n",
      "\n",
      "\u001b[36mℹ\u001b[39m Use `spec()` to retrieve the full column specification for this data.\n",
      "\u001b[36mℹ\u001b[39m Specify the column types or set `show_col_types = FALSE` to quiet this message.\n"
     ]
    },
    {
     "data": {
      "text/html": [
       "<table class=\"dataframe\">\n",
       "<caption>A tibble: 303 × 5</caption>\n",
       "<thead>\n",
       "\t<tr><th scope=col>age</th><th scope=col>rbp</th><th scope=col>cholesterol</th><th scope=col>fbs</th><th scope=col>num</th></tr>\n",
       "\t<tr><th scope=col>&lt;dbl&gt;</th><th scope=col>&lt;dbl&gt;</th><th scope=col>&lt;dbl&gt;</th><th scope=col>&lt;fct&gt;</th><th scope=col>&lt;chr&gt;</th></tr>\n",
       "</thead>\n",
       "<tbody>\n",
       "\t<tr><td>63</td><td>145</td><td>233</td><td>1</td><td>absence </td></tr>\n",
       "\t<tr><td>67</td><td>160</td><td>286</td><td>0</td><td>presence</td></tr>\n",
       "\t<tr><td>67</td><td>120</td><td>229</td><td>0</td><td>presence</td></tr>\n",
       "\t<tr><td>⋮</td><td>⋮</td><td>⋮</td><td>⋮</td><td>⋮</td></tr>\n",
       "\t<tr><td>57</td><td>130</td><td>131</td><td>0</td><td>presence</td></tr>\n",
       "\t<tr><td>57</td><td>130</td><td>236</td><td>0</td><td>presence</td></tr>\n",
       "\t<tr><td>38</td><td>138</td><td>175</td><td>0</td><td>absence </td></tr>\n",
       "</tbody>\n",
       "</table>\n"
      ],
      "text/latex": [
       "A tibble: 303 × 5\n",
       "\\begin{tabular}{lllll}\n",
       " age & rbp & cholesterol & fbs & num\\\\\n",
       " <dbl> & <dbl> & <dbl> & <fct> & <chr>\\\\\n",
       "\\hline\n",
       "\t 63 & 145 & 233 & 1 & absence \\\\\n",
       "\t 67 & 160 & 286 & 0 & presence\\\\\n",
       "\t 67 & 120 & 229 & 0 & presence\\\\\n",
       "\t ⋮ & ⋮ & ⋮ & ⋮ & ⋮\\\\\n",
       "\t 57 & 130 & 131 & 0 & presence\\\\\n",
       "\t 57 & 130 & 236 & 0 & presence\\\\\n",
       "\t 38 & 138 & 175 & 0 & absence \\\\\n",
       "\\end{tabular}\n"
      ],
      "text/markdown": [
       "\n",
       "A tibble: 303 × 5\n",
       "\n",
       "| age &lt;dbl&gt; | rbp &lt;dbl&gt; | cholesterol &lt;dbl&gt; | fbs &lt;fct&gt; | num &lt;chr&gt; |\n",
       "|---|---|---|---|---|\n",
       "| 63 | 145 | 233 | 1 | absence  |\n",
       "| 67 | 160 | 286 | 0 | presence |\n",
       "| 67 | 120 | 229 | 0 | presence |\n",
       "| ⋮ | ⋮ | ⋮ | ⋮ | ⋮ |\n",
       "| 57 | 130 | 131 | 0 | presence |\n",
       "| 57 | 130 | 236 | 0 | presence |\n",
       "| 38 | 138 | 175 | 0 | absence  |\n",
       "\n"
      ],
      "text/plain": [
       "    age rbp cholesterol fbs num     \n",
       "1   63  145 233         1   absence \n",
       "2   67  160 286         0   presence\n",
       "3   67  120 229         0   presence\n",
       "⋮   ⋮   ⋮   ⋮           ⋮   ⋮       \n",
       "301 57  130 131         0   presence\n",
       "302 57  130 236         0   presence\n",
       "303 38  138 175         0   absence "
      ]
     },
     "metadata": {},
     "output_type": "display_data"
    }
   ],
   "source": [
    "heart_disease <- read_csv(url(\"https://archive.ics.uci.edu/ml/machine-learning-databases/heart-disease/processed.cleveland.data\"),\n",
    "                         col_names = FALSE)\n",
    "\n",
    "colnames(heart_disease) <- c(\"age\", \"sex\", \"chest_pain_type\", \"rbp\", \"cholesterol\", \n",
    "                      \"fbs\", \"rer\",\n",
    "                      \"max_heart_rate\",\"eia\", \"STdep\",\n",
    "                      \"slope\",\"ca\", \"thal\", \"num\")\n",
    "\n",
    "heart_disease <- heart_disease |> select(age, rbp, cholesterol, fbs, num)\n",
    "\n",
    "heart_disease <- heart_disease |> \n",
    "        mutate(fbs = as_factor(fbs), num = as_factor(num))\n",
    "\n",
    "heart_disease <- heart_disease |>\n",
    "             mutate(num = case_when(num == 0 ~ \"absence\", \n",
    "                                    num == 1 ~ \"presence\",\n",
    "                                    num == 2 ~ \"presence\",\n",
    "                                    num == 3 ~ \"presence\",\n",
    "                                    num == 4 ~ \"presence\"))\n",
    "\n",
    "\n",
    "heart_disease\n",
    "\n"
   ]
  },
  {
   "cell_type": "code",
   "execution_count": 8,
   "id": "b006d3b6-d09f-4bd9-9cf3-bba7f388a684",
   "metadata": {},
   "outputs": [],
   "source": [
    " # Splitting the data\n",
    "heart_split <- initial_split(heart_disease, prop = 0.75, strata = num)\n",
    "heart_train <- training(heart_split)\n",
    "heart_test <- testing(heart_split)"
   ]
  },
  {
   "cell_type": "code",
   "execution_count": 9,
   "id": "b5a2c491-c9ad-4d03-858c-26fa6fd38835",
   "metadata": {},
   "outputs": [
    {
     "data": {
      "text/html": [
       "<table class=\"dataframe\">\n",
       "<caption>A tibble: 1 × 6</caption>\n",
       "<thead>\n",
       "\t<tr><th scope=col>Number of Observations</th><th scope=col>Average Age</th><th scope=col>Average Serum Cholesterol in mg/dl</th><th scope=col>Avergae Resting Blood Pressure (mmHg), High</th><th scope=col>Number of patients with blood sugar &gt; 120 mg/dl</th><th scope=col>Number of Patients with Diagnosed Heart Disaese</th></tr>\n",
       "\t<tr><th scope=col>&lt;int&gt;</th><th scope=col>&lt;dbl&gt;</th><th scope=col>&lt;dbl&gt;</th><th scope=col>&lt;dbl&gt;</th><th scope=col>&lt;int&gt;</th><th scope=col>&lt;int&gt;</th></tr>\n",
       "</thead>\n",
       "<tbody>\n",
       "\t<tr><td>227</td><td>54.01322</td><td>245.1894</td><td>131.4846</td><td>37</td><td>104</td></tr>\n",
       "</tbody>\n",
       "</table>\n"
      ],
      "text/latex": [
       "A tibble: 1 × 6\n",
       "\\begin{tabular}{llllll}\n",
       " Number of Observations & Average Age & Average Serum Cholesterol in mg/dl & Avergae Resting Blood Pressure (mmHg), High & Number of patients with blood sugar > 120 mg/dl & Number of Patients with Diagnosed Heart Disaese\\\\\n",
       " <int> & <dbl> & <dbl> & <dbl> & <int> & <int>\\\\\n",
       "\\hline\n",
       "\t 227 & 54.01322 & 245.1894 & 131.4846 & 37 & 104\\\\\n",
       "\\end{tabular}\n"
      ],
      "text/markdown": [
       "\n",
       "A tibble: 1 × 6\n",
       "\n",
       "| Number of Observations &lt;int&gt; | Average Age &lt;dbl&gt; | Average Serum Cholesterol in mg/dl &lt;dbl&gt; | Avergae Resting Blood Pressure (mmHg), High &lt;dbl&gt; | Number of patients with blood sugar &gt; 120 mg/dl &lt;int&gt; | Number of Patients with Diagnosed Heart Disaese &lt;int&gt; |\n",
       "|---|---|---|---|---|---|\n",
       "| 227 | 54.01322 | 245.1894 | 131.4846 | 37 | 104 |\n",
       "\n"
      ],
      "text/plain": [
       "  Number of Observations Average Age Average Serum Cholesterol in mg/dl\n",
       "1 227                    54.01322    245.1894                          \n",
       "  Avergae Resting Blood Pressure (mmHg), High\n",
       "1 131.4846                                   \n",
       "  Number of patients with blood sugar > 120 mg/dl\n",
       "1 37                                             \n",
       "  Number of Patients with Diagnosed Heart Disaese\n",
       "1 104                                            "
      ]
     },
     "metadata": {},
     "output_type": "display_data"
    }
   ],
   "source": [
    "## Table of data analysis\n",
    "\n",
    "# Getting the mean of the age \n",
    "average_age <- heart_train |> summarise(mean(age))\n",
    "\n",
    "# Number of observations\n",
    "\n",
    "num_obs <- tibble(nrow(heart_train))\n",
    "\n",
    "# average of serum cholesterol, used as a predictor\n",
    "\n",
    "avg_chol <- heart_train |> summarise(mean(cholesterol))\n",
    "\n",
    "# number of patients with fasting blood sugar greater than 120 mg/dl\n",
    "\n",
    "with_fbs <- heart_train |> filter(fbs == \"1\")\n",
    "num_fbs <- tibble(nrow(with_fbs))\n",
    "\n",
    "\n",
    "# average of resting blood pressure \n",
    "avg_rbp <- heart_train |> summarise(mean(rbp))\n",
    "\n",
    "# number of people with heart disease (any type) \n",
    "num_presence <- heart_train |> filter(num == \"presence\")\n",
    "\n",
    "num_hd <- tibble(nrow(num_presence))\n",
    "\n",
    "data_analysis <- bind_cols(num_obs, average_age, avg_chol, avg_rbp, num_fbs, num_hd)\n",
    "\n",
    "colnames(data_analysis)  <- c(\"Number of Observations\", \"Average Age\", \"Average Serum Cholesterol in mg/dl\", \"Avergae Resting Blood Pressure (mmHg), High\", \"Number of patients with blood sugar > 120 mg/dl\", \"Number of Patients with Diagnosed Heart Disaese\")\n",
    "\n",
    "\n",
    "data_analysis"
   ]
  },
  {
   "cell_type": "code",
   "execution_count": null,
   "id": "a3e41f68-0eee-43cd-b1be-eb877ec875c6",
   "metadata": {},
   "outputs": [],
   "source": []
  },
  {
   "cell_type": "code",
   "execution_count": 10,
   "id": "0c8b45d2-ea0d-4483-87f9-36ff489b72bf",
   "metadata": {},
   "outputs": [
    {
     "data": {
      "image/png": "[encoded data removed]",
      "text/plain": [
       "plot without title"
      ]
     },
     "metadata": {
      "image/png": {
       "height": 420,
       "width": 420
      }
     },
     "output_type": "display_data"
    }
   ],
   "source": [
    "# plotting for data analysis\n",
    "age_dist <- heart_train |> ggplot(aes(x=age, y = cholesterol)) + geom_point() + \n",
    "            facet_grid(rows = vars(num)) + \n",
    "            labs(x = \"age\", y=\"Total Cholesterol in Blood in mg/dl\") +\n",
    "            ggtitle(\"Age distribution and Prevalence of Heart Disease\")\n",
    "age_dist"
   ]
  },
  {
   "cell_type": "markdown",
   "id": "6cf02ae5-6e56-4592-b07b-760e3fd14ee7",
   "metadata": {},
   "source": [
    "The table summarizes the average of age, which can tell us that the age distribution is reasonably around 54, and have good amount of representation, shown in the scatter plot. This helps us know that the dataset is a good representation of heart disease patients in terms of age. \n",
    "\n",
    "We have also averaged the predictors such as average cholesterol, average resting blood pressure, and counted the number of patients with heart disease. This gives us insight in how it compares with actual averages in real life. For example, average serum cholesterol is around 200 to 240 mg/dl (milligrams per deciliter), which show that this dataset and higher than average serum cholesterol in their blood. With regards to resting blood pressure, which the dataset most likely refer to the upper number, is 131 mm Hg (millimeters mercury). This is slightly higher than the safe level, almost to hypertension level (dangerous). The number of patients with blood sugar over 120 mg/dl is 34 out of 227 observations. Blood sugar level over 120 mg/dl is diabetes, which we expect to contribute to heart disease. We see that there are not too many diabetic patients in the whole dataset.\n",
    "\n",
    "\n",
    "The plot shows use a scatter plot that is grouped for the patients diagnosed with heart disease and those that are not, against the total amount of cholesterol in their blood. From the graph only, we do not see much correlation with high cholesterol with the presence and absence of heart disease, but further analysis may show otherwise.\n"
   ]
  },
  {
   "cell_type": "markdown",
   "id": "1b327573-d1be-4f42-961e-710a7e3457aa",
   "metadata": {
    "tags": []
   },
   "source": [
    "## Methods"
   ]
  },
  {
   "cell_type": "markdown",
   "id": "eb94415a-6cde-49ba-b5ea-ec4cea3d8848",
   "metadata": {},
   "source": [
    "- Explain how you will conduct either your data analysis and which variables/columns you will use. Note - you do not need to use all variables/columns that exist in the raw data set. In fact, that's often not a good idea.\n",
    "- For each variable think: is this a useful variable for prediction?\n",
    "- Describe at least one way that you will visualize the results"
   ]
  },
  {
   "cell_type": "markdown",
   "id": "c883abd6-5fd7-4f45-826f-809803b21798",
   "metadata": {},
   "source": [
    "We will be using age, fasting blood sugar, and resting heart rate as predictors for our data analysis.  One way we will visualize our results is by creating graphs on Jupyter using the tidyverse's \"ggplot\" function.  We will also use classification and regression to predict whether or not new patients will develop heart disease based on their age, blood pressure, etc.  We will plot these patients' data on our graphs as well and show their \"k-nearest neighbors\" function.  \n",
    "\n",
    "Predictors:\n",
    "\n",
    "Age:\n",
    "\tAccording to the National Institute on Aging, individuals that are older have a higher likelihood of having heart disease. This is the case as there is an “increased stiffness of large arteries” that contributes to the “buildup of fatty deposits in the walls of arteries.”\n",
    "\n",
    "https://www.nia.nih.gov/health/heart-health-and-aging\n",
    "\n",
    "Fasting Blood Sugar (Diabetes):\n",
    "\tHaving a higher fasting blood sugar level is an indicator for diabetes. According to the Centers for Disease Control and Prevention, having a diabetes “can damage blood vessels and the nerves that control your heart.”\n",
    "\n",
    "https://www.cdc.gov/diabetes/library/features/diabetes-and-heart.html#:~:text=Over%20time%2C%20high%20blood%20sugar,and%20can%20damage%20artery%20walls.\n",
    "\n",
    "\n",
    "Cholesterol: \n",
    "\tAccording to clevelandclinic, cholesterol “leads to a buildup of plaque inside your blood vessels”. This buildup of plaque then “limits how much blood can flow,” thus, causing heart disease as well as other medical conditions.\n",
    "\t\n",
    "https://my.clevelandclinic.org/health/articles/11918-cholesterol-high-cholesterol-diseases\n",
    "\n",
    "\n",
    "\n",
    "Resting Blood Pressure:\n",
    "\tAccording to the Centers for Disease Control and Prevention, having a higher resting blood pressure can “damage arteries by making them less elastic.” This leads to being less blood flow to the heart.\n",
    "\n",
    "https://www.cdc.gov/bloodpressure/about.htm#:~:text=High%20blood%20pressure%20can%20damage%20your%20arteries%20by%20making%20them,Chest%20pain%2C%20also%20called%20angina.\n"
   ]
  },
  {
   "cell_type": "code",
   "execution_count": 7,
   "id": "acd19916-01bd-4aec-a48b-5204ae1f34e2",
   "metadata": {},
   "outputs": [],
   "source": [
    "#We will be using age, resting blood pressure, and resting heart rate as predictors for our data analysis.\n",
    "\n",
    "heart_disease_data <- heart_disease |>\n",
    "    select(age, fbs, cholesterol, rbp, num)\n",
    "\n",
    "#heart_disease_data\n",
    "#The recipe: Age, FBS, Cholesterol, RPB as predictors. We will be using the training data set (heart_train)\n",
    "heart_disease_recipe <- recipe(num ~ age + fbs + cholesterol + rbp, data = heart_train) |>\n",
    "    step_scale(all_predictors()) |>\n",
    "    step_center(all_predictors())\n",
    "\n",
    "\n",
    "#Set knn_spec to classification using the kknn engine for the project. We will test out multiple 'K' values, therefore we set neighbors to tune()\n",
    "knn_spec <- nearest_neighbor(weight_func = \"rectangular\", neighbors = tune()) |>\n",
    "    set_engine(\"kknn\") |>\n",
    "    set_mode(\"classification\")\n",
    "\n",
    "#We will set up cross-validation (5 fold)\n",
    "heart_vfold <- vfold_cv(heart_train, v = 5, strata = num)\n",
    "\n",
    "#heart_vfold\n",
    "\n"
   ]
  },
  {
   "cell_type": "markdown",
   "id": "aaa18385-9537-4d65-833c-ee7c255b6702",
   "metadata": {},
   "source": [
    "## Expected outcomes and significance:"
   ]
  },
  {
   "cell_type": "markdown",
   "id": "854939cb-289b-4b2e-92f3-21fb6188809e",
   "metadata": {},
   "source": [
    "- What do you expect to find?\n",
    "- What impact could such findings have?\n",
    "- What future questions could this lead to?"
   ]
  },
  {
   "cell_type": "markdown",
   "id": "26558522-209b-4a31-8163-f6167be9dd1b",
   "metadata": {},
   "source": [
    "We expected to find age as a leading predictor for heart disease. We also expect cholesterol to be a good predictor for specific heart disease too.  The impact of this could be very beneficial.  For example, people could be screened for high cholesterol levels as they get older to prevent heart disease.  If a person is older and is found to have high cholesterol, they could adapt a healthier lifestyle and prevent a heart attack or other disaster. Some future questions this could lead to include why age leads to an increased risk of heart disease, and how to help people who are genetically predisposed to have higher levels of cholesterol."
   ]
  },
  {
   "cell_type": "code",
   "execution_count": null,
   "id": "5922b704-a123-431a-9d27-e4c5801146e6",
   "metadata": {},
   "outputs": [],
   "source": []
  }
 ],
 "metadata": {
  "kernelspec": {
   "display_name": "R",
   "language": "R",
   "name": "ir"
  },
  "language_info": {
   "codemirror_mode": "r",
   "file_extension": ".r",
   "mimetype": "text/x-r-source",
   "name": "R",
   "pygments_lexer": "r",
   "version": "4.1.3"
  },
  "toc-showcode": true
 },
 "nbformat": 4,
 "nbformat_minor": 5
}
